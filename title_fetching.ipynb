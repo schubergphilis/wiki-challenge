{
 "cells": [
  {
   "cell_type": "markdown",
   "metadata": {},
   "source": [
    "# Using poor mans jupyter virtual environment access (Edit accordingly)"
   ]
  },
  {
   "cell_type": "code",
   "execution_count": null,
   "metadata": {},
   "outputs": [],
   "source": [
    "import sys\n",
    "sys.path.append('.venv/lib/python3.8/site-packages')"
   ]
  },
  {
   "cell_type": "markdown",
   "metadata": {},
   "source": [
    "# Import required imports"
   ]
  },
  {
   "cell_type": "code",
   "execution_count": 2,
   "metadata": {},
   "outputs": [],
   "source": [
    "import requests\n",
    "from bs4 import BeautifulSoup as Bfs\n",
    "from collections import Counter"
   ]
  },
  {
   "cell_type": "markdown",
   "metadata": {},
   "source": [
    "# Setting up the url and getting all the initial pages"
   ]
  },
  {
   "cell_type": "code",
   "execution_count": 3,
   "metadata": {},
   "outputs": [],
   "source": [
    "url = f'https://www.listchallenges.com/top-1000-best-tv-series-at-least-5000-votes/list/'\n",
    "\n",
    "responses = [requests.get(f'{url}{index}') for index in range(1, 26)]"
   ]
  },
  {
   "cell_type": "markdown",
   "metadata": {},
   "source": [
    "# Getting all the titles from the pages"
   ]
  },
  {
   "cell_type": "markdown",
   "metadata": {},
   "source": [
    "We target the class element of \"item-name\" and we have to remove the last 6 characters that hold (YYYY) for each series as that is not part of the name but added by the wed site."
   ]
  },
  {
   "cell_type": "code",
   "execution_count": 4,
   "metadata": {},
   "outputs": [],
   "source": [
    "all_titles = []\n",
    "for response in responses:\n",
    "    soup = Bfs(response.text, features='html.parser')\n",
    "    for name in soup.find_all('div', {'class':'item-name'}):\n",
    "        all_titles.append(name.string.strip()[:-6].strip())"
   ]
  },
  {
   "cell_type": "code",
   "execution_count": 5,
   "metadata": {},
   "outputs": [
    {
     "name": "stdout",
     "output_type": "stream",
     "text": [
      "['Game of Thrones', 'Breaking Bad', 'The Wire', 'One-Punch Man', 'Sherlock', 'Rick and Morty', 'Making a Murderer', 'The Sopranos', 'Avatar: The Last Airbender', 'Last Week Tonight With John Oliver', 'Leyla Ile Mecnun', 'True Detective', 'Firefly', 'Fullmetal Alchemist: Brotherhood', 'Friends', 'House of Cards', 'Arrested Development', 'Fargo', 'Death Note - Series', 'Narcos', 'Batman: The Animated Series', 'Cowboy Bebop', 'Twilight Zone', 'Ash Vs Evil Dead', 'Hunter X Hunter', 'Dexter', 'The Simpsons', 'Seinfeld', 'Rome', 'Mr. Robot', 'Twin Peaks', 'Freaks and Geeks', 'Top Gear', 'Dragon Ball Z', 'Oz', \"Monty Python's Flying Circus\", 'One Piece: The Movie', 'Dragon Ball Z', 'Only Fools and Horses...', 'Undercover', 'Gravity Falls', 'Code Geass: Lelouch of the Rebellion R2', 'Permanent Roommates', 'Kardes Payi', 'House M.D.- Pilot', 'South Park', 'The Office', 'Daredevil', 'Doctor Who', \"It's Always Sunny in Philadelphia\", 'Battlestar Galactica', 'Better Call Saul', 'Six Feet Under', 'Archer', 'Deadwood', 'Fawlty Towers', 'Attack on Titan', 'The Shield', 'Black Mirror', 'The West Wing', 'Peaky Blinders', \"Chappelle's Show\", 'The Daily Show', 'Blackadder Goes Forth', 'Code Geass: Lelouch of the Rebellion', 'QI', 'Behzat Ç.: Bir Ankara Polisiyesi', 'Impractical Jokers', 'Steins;Gate', 'The Adventures of Sherlock Holmes', 'Isler Güçler', 'The Thick of It', 'Through the Wormhole', 'Brass Eye', 'Suits', 'Sons of Anarchy (TV Series)', 'Mad Men', 'The X-Files', 'Downtown Abbey', 'Shameless', 'Larry David: Curb Your Enthusiasm', 'The Legend of Korra', 'Justified', 'Star Trek: The Next Generation', 'Louie', 'Adventure Time', 'Friday Night Lights', 'Flight of the Conchords', 'Spaced', 'Fullmetal Alchemist', 'Dragon Ball', 'The Colbert Report', 'Black-Adder II', 'Dragon Ball', 'Black Adder the Third', 'Father Ted', 'Mystery Science Theater 3000', 'Berserk', 'Dragon Ball Z Kai', 'Lucifer', 'The Angry Video Game Nerd', 'The Prisoner', 'Homicide: Life on the Street', 'Alfred Hitchcock Presents', 'Gomorrah', 'Yes Minister', 'The New Batman Adventures', 'The Walking Dead', 'Supernatural', 'Modern Family', 'Spartacus: War of the Damned', 'Vikings', 'Hannibal', 'Futurama', 'Community', 'Entourage', 'Boardwalk Empire', 'Parks and Recreation', 'The IT Crowd', 'The Newsroom', 'The Office', 'Luther', 'Mr. Bean', 'Black Books', 'Coupling', 'Carnivàle', 'Peep Show', 'Whose Line Is It Anyway', 'The Bridge', 'Neon Genesis Evangelion', 'Justice League', 'The Knick', \"Agatha Christie's Poirot\", 'Samurai Champloo', 'The Venture Bros.', 'Young Justice', 'The Bugs Bunny Show', \"I'm Alan Partridge\", \"Garth Marenghi's Darkplace\", 'Ghost in the Shell: Stand Alone Complex', 'Rurouni Kenshin: Wandering Samurai', 'My Mad Fat Diary', 'Monster', 'Jeeves and Wooster', 'Yu Yu Hakusho: Ghost Files', 'Mushi-Shi', 'Mr. Show With Bob & David', 'Endeavour', 'Lost', 'Prison Break', 'Fringe', 'Person of Interest', 'Jessica Jones', 'Silicon Valley', 'Outlander', 'Boston Legal', 'Doctor Who', 'Red Dwarf', 'Trailer Park Boys', 'Utopia', 'X-Men', 'Top Gear', 'Southland', 'I Love Lucy', 'Master of None', 'The Muppet Show', 'The Bugs Bunny/Looney Tunes Comedy Hour', 'Broad City', 'Summer Heights High', 'Hellsing Ultimate', 'Borgen', 'The Last Kingdom', 'Police Squad!', 'Terriers', 'Red Vs. Blue: The Blood Gulch Chronicles', 'The Adventures of Brisco County Jr.', 'The League of Gentlemen', 'Baccano', 'The Big Bang Theory', 'How I Met Your Mother', 'Homeland', 'Scrubs', 'Orange Is the New Black', 'Californication', '24', 'Psych', 'The Originals', 'Stargate SG-1', 'Orphan Black', 'Veronica Mars', 'Sense8', 'The Inbetweeners', 'Banshee', 'Star Trek', 'Pushing Daisies', 'Mythbusters', 'Naruto: Shippûden', 'Extras', 'Broadchurch', 'Blue Mountain State', 'M*A*S*H', 'Life o', 'Rescue Me', 'The Boondocks', 'Regular Show', 'Forbrydelsen', 'The Mighty Boosh', 'My So-Called Life', 'Invader Zim', 'Rectify', 'Trigun', 'Ezel', 'Call the Midwife', 'All in the Family', \"The Avengers: Earth's Mightiest Heroes\", 'Avrupa Yakasi', 'Green Wing', \"Foyle's War\", 'The Adventures of Pete & Pete', 'The Guild', 'Tengen Toppa Gurren Lagann', 'A Bit of Fry & Laurie', 'Poldark', 'Detective Conan', 'The Kids in the Hall', 'Cranford', 'Sports Night', 'The Dick Van Dyke Show 1961-1966', 'Family Guy', 'American Horror Story: Coven', 'The Flash', 'White Collar', 'Misfits Series 2', 'Brooklyn Nine-Nine', 'How to Get Away With Murder', 'The Good Wife', 'Eastbound & Down', 'The Americans', 'Ray Donovan', 'Forever Over', 'The League', 'Hell on Wheels', 'The Fall', 'Life', 'The Wonder Years', 'Farscape', 'Party Down', 'An Idiot Abroad', 'Samurai Jack', 'Courage the Cowardly Dog', 'Strike Back', 'Studio 60 on the Sunset Strip', \"Allo 'Allo!\", 'Bojack Horseman', 'Bloodline (TV Series)', 'Spider-Man', 'The Returned', 'Queer as Folk', \"Late Night with Conan O'Brien\", 'The Adventures of Tintin', 'In Treatment', 'Metalocalypse', 'Bosch', 'MI-5', 'Wonderfalls', 'Fairy Tail', 'Are You Afraid of the Dark?', 'Into the Badlands', 'Key and Peele', 'The Late Late Show With Craig Ferguson', 'Get Smart', 'The Andy Griffith Show 1960-1968', 'Sesame Street', 'Shaun the Sheep', 'Kings', 'Doc Martin', 'The Nostalgia Critic', 'Psycho Pass', 'Jonathan Strange & Mr Norrell', 'The Soup', 'Frisky Dingo', 'Survivorman', 'Castle', 'Chuck', 'Criminal Minds', 'Buffy the Vampire Slayer', 'The Blacklist', '30 Rock', 'The Killing', 'Penny Dreadful', 'Skins', 'Agent Carter', 'Workaholics', 'Dead Like Me', 'Saturday Nigh', 'The Black Adder', 'Babylon 5', 'Better off Ted', 'Elfen Lied', 'Man Vs. Wild', 'Hustle', 'Columbo', 'The Man in the High Castle', 'Longmire', 'Conan', 'Halt and Catch Fire', 'The Black Donnellys', 'The Ricky Gervais Show', 'Northern Exposure', 'Treme', 'Penn & Teller: Bullshit!', 'The Young Ones', 'Looking', \"You're the Worst\", 'Bottom', 'Superman', 'Journeyman', 'Tokyo Ghoul', 'Mozart in the Jungle', 'Home Movies: Season One', 'Day Break', 'Ashes to Ashes', 'TRON: Uprising', 'Steven Universe', 'Legit', 'Beast Wars: Transformers', 'Outnumbered', 'DreamWorks Dragons', 'Paranoia Agent', 'Teenage Mutant Ninja Turtles', \"The Tonight Show With Conan O'Brien\", \"Todd McFarlane's Spawn\", 'The Marvelous Misadventures of Flapjack', 'Arrow', 'The Mentalist', \"That '70s Show\", 'Weeds', 'Married...With Children', \"Da Vinci's Demons\", 'SpongeBob Squarepants', 'Bates Motel', 'Law & Order: Special Victims Unit', 'The Tudors', 'Stargate Atlantis', 'Almost Human Series', 'Bob`S Burgers', 'Boy Meets World 1993-2000', 'Marco Polo', 'Damages', 'Parenthood', 'Ducktales (Series)', 'Quantum Leap', 'Lilyhammer', 'Humans', 'Batman Beyond', 'The Unit', 'Derek', 'Boss', 'The Fosters', 'Absolutely Fabulous', 'The Goldbergs', 'Ripper Street', 'The Big C', 'Chicago P.D.', 'Shameless', 'Gargoyles', 'Fresh off the Boat', 'Grace and Frankie', \"The Hitchhiker's Guide to the Galaxy\", 'Claymore', 'Lucky Louie', 'Millennium', 'The Missing', 'Ergo Proxy', 'Darker Than Black', 'Wolverine and the X-Men', 'The Amazing World of Gumball', 'Ugly Americans', 'The Good Guys', 'Spectacular Spider-Man', 'Black Lagoon', 'Inspector Morse', 'Deadliest Catch', \"Wolf's Rain\", 'The Critic', 'The Life & Times of Tim', 'True Blood', 'Once Upon a Time', 'Gotham (TV Series)', 'Bones', 'Revenge', 'Malcolm in the Middle', 'The Fresh Prince of Bel-Air', 'Lie to Me', 'NCIS', 'Gilmore Girls', 'Burn Notice', 'Frasier', 'Angel', 'Monk', 'Jericho', 'Black Sails', 'Bleach: Season 1', 'Raising Hope', \"Dexter's Laboratory (1996-2003)\", 'Masters of Sex', 'iZombie (TV Series)', 'Unbreakable Kimmy Schmidt', 'Teenage Mutant Ninja Turtles', 'Veep', 'Limitless', 'Pinky and the Brain', 'Phineas and Ferb', 'Daria', 'The Affair', 'Transformers', 'Sword Art Online (Anime)', 'Tales From the Crypt', 'Undeclared', 'Recess', \"Rocko's Modern Life\", 'How to Make It in America', 'Reno 911!', 'Transparent', \"TURN: Washington's Spies\", 'Da Ali G Show', 'Hellsing', \"A Young Doctor's Notebook\", 'The Addams Family', 'Miranda', 'Harvey Birdman, Attorney at Law', 'The Hour', 'Kenny Vs. Spenny', 'The Vicar of Dibley', 'The Tonight Show Starring Jimmy Fallon', 'Fresh Meat', 'Red Band Society', 'The Riches', 'Whitechapel', 'In Living Color', 'Soul Eater', 'That Mitchell and Webb Look', 'Death in Paradise', 'Da Ali G Show', 'WWF Raw', 'Future Diary', 'Common Law', 'Mission: Impossible', 'The Bletchley Circle', 'Sealab 2021: Season One', 'The Vampire Diaries Season 1', 'The 100', 'Elementary', 'Merlin', 'Scandal (TV Series)', 'Eureka', 'Naruto', 'The Borgias', 'Wilfred', 'Leverage', 'The Leftovers', 'Star Trek: Deep Space Nine', 'Bored to Death', 'Star Wars: The Clone Wars', 'Empire', 'Chicago Fire', 'Reaper', 'Scooby Doo, Where Are You!', 'Awake', 'United States of Tara', 'Tyrant', 'Devious Maids', 'Animaniacs', 'Thundercats', 'Power (TV Series)', 'Kenan & Kel', 'Newsradio', 'Inuyasha', 'Rubicon', 'Gavin & Stacey', 'Star Wars Rebels', 'Third Watch', 'The Munsters', 'Wallander', 'The Tick', 'John Doe', 'X-Men: Evolution', 'Inspector Lewis', \"Hogan's Heroes ( T.V Seres\", 'Childrens Hospital', 'Vicious', 'Thundercats', 'New Girl', 'Pretty Little Liars', 'My Name Is Earl', 'Teen Wolf: Season 2', 'Grimm', 'CSI: Crime Scene Investigation', 'Dollhouse', '3rd Rock From the Sun', 'Cheers', 'Torchwood', 'Hart of Dixie', 'Robot Chicken', 'Wayward Pines (TV Series)', 'Episodes', 'Lost Girl', 'The Golden Girls', 'Being Human', 'Blindspot', 'Switched at Birth', 'My Little Pony: Friendship Is Magic', 'Human Target', 'Flashpoint', 'The Musketeers', 'Graceland', 'Portlandia', 'The Grim Adventures of Billy & Mandy', 'Even Stevens 1999-2003', 'Jane the Virgin', 'Foster`S Home for Imaginary Friends', 'The Brink', 'Goosebumps', 'The Dresden Files', 'Taxi', 'Dirty Jobs', 'The Being Frank Show', 'Mortal Kombat: Legacy', 'The Paradise Season 2', 'Brotherhood', 'The Twilight Zone', 'Heroes', \"Grey's Anatomy\", 'One Tree Hill', 'Terminator: The Sarah Connor Chronicles', 'Nip/Tuck', 'Continuum', 'Nikita TV Series', 'ER', 'Stargate Universe', 'Star Trek: Voyager', 'Awkward.', 'Happy Endings', 'Legend of the Seeker', 'Macgyver 1985-1992', 'Law & Order', 'Hey Arnold', 'Moonlight', 'Aqua Teen Hunger Force', 'Witches of East End', 'Nashville', 'Little Britain', 'Star Wars: Clone Wars', 'Teen Titans', 'The Bridge', 'Midsomer Murders', 'Rookie Blue', 'Moonlighting', 'The Penguins of Madagascar', 'The Finder', 'Franklin & Bash', 'Bewitched', 'Chip and Dale Rescue Rangers', 'Video Game High School', 'The Pink Panther Show', 'Keeping Up Appearances', 'Darkwing Duck', 'Mr. Selfridge', 'Sailor Moon', 'Faking It', 'Eli Stone', 'Talespin', 'The Outer Limits', 'Real Time With Bill Maher', 'The Chicago Code', 'Galavant', 'Space: Above and Beyond', 'Night Court', 'Secrets and Lies', 'The Practice', 'Teenage Mutant Ninja Turtles', 'Flashforward', 'Sleepy Hollow', 'Alias', 'Warehouse 13', 'Haven', 'Reign', 'Drake & Josh', 'Kyle XY 2006-2009', 'The A-Team', 'The Flintstones', 'Greek', 'The L Word', 'Cold Case', 'Go on', 'Top of the Lake', 'Nurse Jackie', 'Big Love', '12 Monkeys', 'Smash', 'Stalker', 'Doug', 'Robin Hood', 'The Amazing Race', 'Life Unexpected', 'Invasion', 'Magic City', 'Legends', 'Masters of Horror', 'Tiny Toon Adventures', \"Three's Company\", 'Make It or Break It', 'Survivors', 'Young & Hungry', 'Major Crimes', 'La Femme Nikita', 'Bunheads', 'My Family', 'Still Standing', 'Mob City', 'Adventures of the Gummi Bears', 'Freakazoid!', 'Ed', 'Emily Owens M.D.', 'Highschool of the Dead', 'Hand of God', 'Gang Related', 'Agents of S.H.I.E.L.D.', 'Smallville', 'American Dad!', 'The Following', 'The O.C.', 'The Strain', 'Fear the Walking Dead', 'The Secret Circle', 'Constantine', 'The Last Man on Earth', 'Star Trek: Enterprise', 'The Cosby Show 1984-1992', 'Las Vegas', 'Rizzoli & Isles', \"Harper's Island\", 'Rugrats', 'Being Human', 'Roswell', 'Blue Bloods', 'Beavis and Butt-Head', 'The Closer', 'Miami Vice', 'Perception', 'The Ren & Stimpy Show', 'Magnum, P.I.', 'Ballers', 'Sliders', 'The Pretender', 'Grounded for Life', 'Dinosaurs', 'Batman', 'He -Man and the Masters of the Universe', 'Tru Calling', 'Tosh.0', 'Happy Days', 'Outsourced', \"Life's Too Short\", 'The Glades', 'Early Edition 1996-2000', 'Copper', 'Hello Ladies', 'NYPD Blue', 'Heroes (TV Series)', 'Arthur', 'I Dream of Jeannie', 'Twisted (TV Series)', 'The War at Home', 'Being Erica', 'Hunted', 'The Dead Zone', 'About a Boy', 'New Amsterdam', \"Mrs. Brown's Boys\", 'Enlightened', 'Man V. Food', 'The Hard Times of RJ Berger', 'Popular', 'Gossip Girl', 'Desperate Housewives', 'The King of Queens', 'Girls', 'Hawaii Five-0', 'Touch TV Series', 'The 4400', 'The Last Ship', 'The Middle', 'Everybody Hates Chris', 'Dark Angel', 'Dracula', 'Johnny Bravo', 'ALF', 'The Mindy Project', 'Pokemon', 'Spin City', 'Quantico', 'Last Resort', 'Ed Edd N Eddy', 'House of Lies', 'The Lying Game', 'Sanctuary', 'Drop Dead Diva', 'Resurrection TV Series', 'Two Guys, a Girl and a Pizza Place', 'Star-Crossed', \"Ned's Declassified School Survival Guide\", 'Clerks', 'Everwood', 'Secret Diary of a Call Girl', 'Ellen: The Ellen Degeneres Show', 'Madam Secretary', 'Degrassi: The Next Generation', 'The Angry Beavers', 'Jane by Design', 'Samantha Who?', 'The Smurfs', \"Gilligan's Island\", 'Life on Mars', 'Crossing Lines', 'Fortitude', 'Kitchen Nightmares', 'Fairly Legal', 'Backstrom', 'Aaahh!!! Real Monsters', 'Ancient Aliens', 'Battle Creek', 'Chowder', 'Blood Ties', 'Shark Tank', 'Beetlejuice', 'Hemlock Grove Season 1', 'The Tomorrow People', 'Suburgatory Season 1', 'Rules of Engagement', 'Alphas', 'Covert Affairs', 'The Fairly Oddparents', 'Brothers & Sisters', 'Law & Order: Criminal Intent', 'Dark Matter', 'Jackie Chan Adventures', 'Last Man Standing TV Series', 'Breakout Kings', 'Pawn Stars', 'Believe', 'Baby Daddy', 'Little House on the Prairie', 'Primeval', 'Dirty Sexy Money', 'Highlander', 'Becker', 'Defying Gravity', 'In Plain Sight', '21 Jump Street', 'Tim and Eric Awesome Show, Great Job!', 'Project Runway', 'The Nine Lives of Chloe King', 'The Whispers', 'Garfield and Friends', 'Wings', 'V', 'Vegas', 'The Batman', 'Undateable', 'Clarissa Explains It All', 'Inside Amy Schumer', 'The Young Indiana Jones Chronicles', \"Harry's Law\", 'Bonanza 1959-1973', 'Falling Skies', 'Will & Grace', 'King of the Hill', 'Home Improvement 1991-1999', 'Beauty and the Beast TV Series', 'Scorpion', 'Dont Trust the Bitch in Apartment 23', 'The Powerpuff Girls Movie', 'Hung', 'Jackass: The Movie', 'Scream Queens', 'Digimon: Digital Monsters', 'Salem', 'Scream: The TV Series', 'Family Ties 1982-1989', 'The Librarians', 'Hot in Cleveland', 'Selfie', 'Dallas', 'Surface', 'Codename: Kids Next Door', 'H2O: Just Add Water', 'Madtv', 'Crisis', 'Breaking in', 'The Gates', 'Brickleberry', 'Mork & Mindy', 'Perfect Strangers', 'Army Wives', 'The Six Million Dollar Man', 'Two and a Half Men', 'Everybody Loves Raymond', 'Caprica', '8 Simple Rules', 'Happy Tree Friends', 'Melissa & Joey', 'Kim Possible', 'Good Luck Charlie', 'Shark', 'The Crazy Ones', 'Battlestar Galactica', 'Bitten', 'Once Upon a Time in Wonderland', 'Mistresses', 'Late Night With Jimmy Fallon', 'Kurtlar Vadisi', 'Girl Meets World', 'Danny Phantom', 'Men at Work', 'Killjoys', 'Dirt', 'Ultimate Spider-Man', 'The Dukes of Hazzard', 'Timon & Pumbaa', 'Ask-I Memnu', 'The Returned TV Show', 'Charmed Season 1', 'Cougar Town', 'CSI: NY', 'Alcatraz', 'Defiance', 'Roseanne', 'Saved by the Bell 1989-1993', 'The Event', 'The Carrie Diaries', 'Dragon Ball GT', 'Royal Pains', 'Drawn Together', 'Intelligence', \"Hell's Kitchen\", 'Mom', 'From Dusk Till Dawn Season 1', 'Body of Proof', 'The Jetsons', 'The Odyssey', 'The New Adventures of Old Christine', 'The Mask: Animated Series', 'Zoo', 'The Incredible Hulk', 'Joan of Arcadia', 'Black-Ish', 'Poketto Monsutâ', 'A Gifted Man', 'The Oblongs', 'Necessary Roughness', 'The Sarah Silverman Program.', 'Ben 10', 'Aquarius', 'Yes, Dear', 'Sex and the City', '2 Broke Girls', 'V', 'Numb3rs', 'The Nanny', 'Helix', 'Medium', 'Knight Rider 1982-1986', 'Dominion', 'Ringer', 'Survivor', 'Pan Am', '666 Park Avenue', 'No Ordinary Family', 'Without a Trace', 'Just Shoot Me!', 'Victorious', 'The Drew Carey Show', 'Yugio Deyueru Monsutazu', 'Late Show With David Letterman', 'Missing', 'Dallas', 'Crossing Jordan', 'Jimmy Kimmel Live!', 'GCB', 'Persons Unknown', 'Olympus', 'NCIS: New Orleans', 'Celebrity Deathmatch', 'Mr. Sunshine', 'Taz-Mania', 'The Bernie Mac Show', 'Trophy Wife', 'Under the Dome', 'Terra Nova', 'Ally McBeal', 'My Wife and Kids', 'Wizards of Waverly Place', 'Lois & Clark: The New Adventures of Superman', 'The River', 'Murder, She Wrote', 'Inspector Gadget', 'The New Normal', 'So You Think You Can Dance', 'Hellcats', 'Hostages', 'The Wild Thornberrys', 'The Listener', 'Kingdom Hospital', 'Airwolf', 'Mr. Bean: The Animated Series', 'Gary Unmarried', 'Glee', 'Revolution', 'NCIS: Los Angeles', 'Xena: Warrior Princess', 'Anger Management', 'Extant', 'Cow and Chicken', 'Unforgettable', 'The Brady Bunch 1969-1974', 'Atlantis', 'George Lopez', 'Felicity', 'Captain Planet and the Planeteers', 'The Client List', 'The Neighbors TV Series', 'The Adventures of Jimmy Neutron: Boy Genius', 'Party of Five', 'Ravenswood', 'Viva La Bam', \"Diff'rent Strokes 1978-1986\", 'Wipeout', 'The Amanda Show', 'Stitchers', 'The Yogi Bear Show', 'Full House', 'Sabrina the Teenage Witch (TV Show)', 'Camelot', 'Private Practice', 'Mad About You', 'Catdog', 'What I Like About You', 'Growing Pains', 'The Voice', 'Andromeda', 'Hercules', 'Dr. Quinn Medicine Woman 1993-1998', 'The Messengers', 'Doogie Howser, M.D.', 'The Mysteries of Laura', 'Transporter: The Series', 'Ghost Hunters', \"'Til Death\", 'Outcasts', 'Ugly Betty', \"Dawson's Creek\", 'Icarly', 'Hercules: The Legendary Journeys', 'Family Matters', 'Z Nation', 'Mike & Molly', 'Lizzie McGuire 2001-2004', 'JAG', 'Magnificent Century / Muhtesem Yüzyil', 'Duck Dynasty', 'Up All Night', 'Step by Step', 'Storage Wars', \"Who's the Boss?\", 'Lipstick Jungle', \"Charlie's Angels\", 'Crossbones', 'CSI: Miami', 'According to Jim', \"That's So Raven\", 'Reba', 'Eastwick', 'The Bastard Executioner', 'Ghost Whisperer', 'Dharma & Greg', 'Supergirl', 'Mighty Morphin Power Rangers', 'Accidentally on Purpose', 'Suite Life of Zack and Cody', 'Beverly Hills, 90210', 'The Suite Life on Deck', 'Sonny With a Chance', '90210', 'Sister Sister', \"Punk'd\", 'Big Time Rush', 'The Love Boat', 'Joey', 'Austin & Ally']\n"
     ]
    }
   ],
   "source": [
    "print(all_titles)"
   ]
  },
  {
   "cell_type": "markdown",
   "metadata": {},
   "source": [
    "# We can see how many and which are duplicates"
   ]
  },
  {
   "cell_type": "code",
   "execution_count": 6,
   "metadata": {},
   "outputs": [],
   "source": [
    "duplicates = [item for item, count in Counter(all_titles).items() if count > 1]"
   ]
  },
  {
   "cell_type": "code",
   "execution_count": 7,
   "metadata": {},
   "outputs": [
    {
     "name": "stdout",
     "output_type": "stream",
     "text": [
      "['Top Gear', 'Dragon Ball Z', 'The Office', 'Doctor Who', 'Battlestar Galactica', 'Shameless', 'Dragon Ball', 'The Bridge', 'Teenage Mutant Ninja Turtles', 'Da Ali G Show', 'Thundercats', 'Being Human', 'V', 'Dallas']\n"
     ]
    }
   ],
   "source": [
    "print(duplicates)"
   ]
  },
  {
   "cell_type": "markdown",
   "metadata": {},
   "source": [
    "# We get only the unique title removing the duplicates"
   ]
  },
  {
   "cell_type": "code",
   "execution_count": 8,
   "metadata": {},
   "outputs": [],
   "source": [
    "unique_titles = list(set(all_titles))"
   ]
  },
  {
   "cell_type": "markdown",
   "metadata": {},
   "source": [
    "# We have identified that some titles are not well constructed for out search and we manually cleaned them up and we want to inject them on our final results"
   ]
  },
  {
   "cell_type": "code",
   "execution_count": 9,
   "metadata": {},
   "outputs": [],
   "source": [
    "cleaned_up_titles = '''House M.D\n",
    "Sons of Anarchy\n",
    "Rurouni Kenshin\n",
    "Mr. Show\n",
    "The Dick Van Dyke Show\n",
    "Misfits\n",
    "The Andy Griffith Show\n",
    "Home Movies\n",
    "Almost Human\n",
    "Boy Meets World\n",
    "Ducktales\n",
    "Dexter's Laboratory\n",
    "Sword Art Online \n",
    "Sealab 2021\n",
    "Hogan's Heroes \n",
    "Even Stevens\n",
    "The Paradise\n",
    "Macgyver\n",
    "Kyle XY\n",
    "The Cosby Show\n",
    "Early Edition \n",
    "The Ellen Degeneres Show\n",
    "Hemlock Grove\n",
    "Bonanza \n",
    "Home Improvement \n",
    "Family Ties\n",
    "The Returned \n",
    "Saved by the Bell\n",
    "Knight Rider \n",
    "Yugio\n",
    "The Brady Bunch\n",
    "Diff'rent Strokes \n",
    "Dr. Quinn Medicine Woman\n",
    "Lizzie McGuire\n",
    "Magnificent Century'''.splitlines()"
   ]
  },
  {
   "cell_type": "markdown",
   "metadata": {},
   "source": [
    "# Not really optimized but it will do for this specific problem domain, we iterate over all the unique"
   ]
  },
  {
   "cell_type": "code",
   "execution_count": 10,
   "metadata": {},
   "outputs": [],
   "source": [
    "final_titles = []\n",
    "cleaned_up_matched = []\n",
    "for title in unique_titles:\n",
    "    for index, cleaned_up_title in enumerate(cleaned_up_titles):\n",
    "        if cleaned_up_title in title:\n",
    "            final_titles.append(cleaned_up_title)\n",
    "            cleaned_up_matched.append(cleaned_up_title)\n",
    "            break\n",
    "    else:\n",
    "        final_titles.append(title)"
   ]
  },
  {
   "cell_type": "code",
   "execution_count": 11,
   "metadata": {},
   "outputs": [
    {
     "name": "stdout",
     "output_type": "stream",
     "text": [
      "['M*A*S*H', 'Luther', 'Cheers', 'Dark Angel', 'Once Upon a Time in Wonderland', 'Outsourced', 'Ghost Hunters', 'Only Fools and Horses...', 'Rectify', 'Boy Meets World', 'Greek', 'Law & Order: Special Victims Unit', 'Law & Order: Criminal Intent', 'The Neighbors TV Series', 'Vegas', 'Reaper', 'Ash Vs Evil Dead', 'Baby Daddy', 'Human Target', 'Downtown Abbey', 'Icarly', 'Supernatural', 'The Fairly Oddparents', 'Thundercats', 'The Mysteries of Laura', \"The Avengers: Earth's Mightiest Heroes\", 'Community', 'Reign', 'La Femme Nikita', 'Inuyasha', 'Z Nation', 'Reno 911!', 'Archer', 'H2O: Just Add Water', 'No Ordinary Family', 'Timon & Pumbaa', 'Sailor Moon', 'The Good Guys', 'Fargo', 'Breaking Bad', 'Flashforward', 'Poketto Monsutâ', 'Late Show With David Letterman', 'Falling Skies', 'The Tudors', 'Legends', 'Boardwalk Empire', 'Defiance', 'Halt and Catch Fire', 'Through the Wormhole', 'Red Vs. Blue: The Blood Gulch Chronicles', 'Hemlock Grove', 'Are You Afraid of the Dark?', 'Sabrina the Teenage Witch (TV Show)', 'Army Wives', 'The Glades', 'Intelligence', 'The Last Ship', \"That '70s Show\", 'The Black Donnellys', 'Orphan Black', 'Viva La Bam', 'Little House on the Prairie', 'Borgen', 'Saturday Nigh', 'Alias', 'Crossing Lines', 'The Adventures of Brisco County Jr.', 'Bloodline (TV Series)', 'Samurai Jack', 'The Oblongs', 'Monster', 'Last Resort', 'Ringer', 'Outnumbered', 'Melissa & Joey', 'Looking', 'Fairly Legal', 'The IT Crowd', 'The League of Gentlemen', 'Taz-Mania', 'The Closer', 'George Lopez', 'One Tree Hill', 'Mork & Mindy', 'Man V. Food', 'Black Lagoon', 'The Ren & Stimpy Show', 'Teen Titans', 'Jane by Design', 'Selfie', 'Ergo Proxy', 'Magic City', 'One-Punch Man', 'Life Unexpected', 'The Tonight Show Starring Jimmy Fallon', 'Veep', 'Day Break', 'Agents of S.H.I.E.L.D.', 'Celebrity Deathmatch', 'The Walking Dead', 'Lucifer', 'Wizards of Waverly Place', 'Poldark', 'Hell on Wheels', 'Sealab 2021', 'Dexter', 'Childrens Hospital', 'The West Wing', 'Dragon Ball GT', 'Hustle', 'The 100', 'The Thick of It', 'Ally McBeal', 'Andromeda', 'The Missing', 'Nikita TV Series', 'Hey Arnold', 'Private Practice', 'Eli Stone', 'Everwood', 'Teenage Mutant Ninja Turtles', 'Limitless', 'The Sarah Silverman Program.', 'The Shield', 'Foster`S Home for Imaginary Friends', 'Happy Days', 'Crossing Jordan', 'Broad City', 'The Venture Bros.', 'True Blood', \"Mrs. Brown's Boys\", 'In Plain Sight', 'Star Trek', 'Jackie Chan Adventures', 'Blue Bloods', 'GCB', 'The Messengers', 'My Little Pony: Friendship Is Magic', 'Stargate SG-1', 'The Outer Limits', 'Agent Carter', 'Call the Midwife', 'Body of Proof', 'Mortal Kombat: Legacy', 'Blue Mountain State', 'Xena: Warrior Princess', 'The Yogi Bear Show', 'House of Lies', 'Bleach: Season 1', 'Eastbound & Down', 'Men at Work', 'Hello Ladies', 'Leyla Ile Mecnun', 'Witches of East End', 'American Dad!', 'Just Shoot Me!', 'Fawlty Towers', 'Rick and Morty', 'Homicide: Life on the Street', 'Utopia', 'TRON: Uprising', 'Paranoia Agent', 'Being Human', 'The New Batman Adventures', 'Grounded for Life', 'Jericho', 'Space: Above and Beyond', 'Talespin', 'Bosch', 'Ghost Whisperer', 'Peaky Blinders', 'Undateable', 'Bored to Death', 'Deadwood', 'Dirty Sexy Money', 'Dirt', 'Orange Is the New Black', 'Skins', 'Batman: The Animated Series', 'Rurouni Kenshin', 'The Powerpuff Girls Movie', 'NCIS: Los Angeles', \"Todd McFarlane's Spawn\", 'Teen Wolf: Season 2', 'The Muppet Show', 'Surface', 'Heroes (TV Series)', 'Criminal Minds', 'Blood Ties', 'Salem', 'My Mad Fat Diary', 'Duck Dynasty', 'Shark Tank', 'Cranford', 'CSI: Crime Scene Investigation', 'Survivor', 'The Guild', 'The Whispers', 'Father Ted', 'Star Trek: Enterprise', 'Top Gear', 'DreamWorks Dragons', 'Wallander', 'Knight Rider ', 'The Brady Bunch', 'The Smurfs', 'Becker', 'Rome', 'Macgyver', 'Adventure Time', 'Psych', 'QI', 'The Mighty Boosh', 'Pan Am', 'The Newsroom', 'Green Wing', 'Daria', 'Batman', 'Boss', 'Episodes', 'Jackass: The Movie', 'Ugly Americans', 'The Americans', 'Ravenswood', 'Mystery Science Theater 3000', 'Absolutely Fabulous', 'Gargoyles', 'Crisis', \"Monty Python's Flying Circus\", 'Real Time With Bill Maher', 'Fresh off the Boat', 'Lois & Clark: The New Adventures of Superman', 'Crossbones', 'Into the Badlands', 'Person of Interest', 'Studio 60 on the Sunset Strip', 'Shameless', 'Vikings', 'Pretty Little Liars', 'Defying Gravity', 'Homeland', 'Humans', 'The Goldbergs', 'Goosebumps', 'Johnny Bravo', 'The Adventures of Pete & Pete', 'The Dresden Files', 'Two Guys, a Girl and a Pizza Place', 'Extant', 'Banshee', 'Dead Like Me', 'The Pretender', 'Inspector Lewis', 'Hart of Dixie', 'Aqua Teen Hunger Force', 'The Secret Circle', 'Brotherhood', 'Mom', \"Da Vinci's Demons\", 'Grace and Frankie', 'Cougar Town', 'Magnum, P.I.', 'The Pink Panther Show', \"Garth Marenghi's Darkplace\", 'Master of None', 'Nurse Jackie', 'Yugio', 'The Last Man on Earth', 'Murder, She Wrote', 'Brothers & Sisters', \"It's Always Sunny in Philadelphia\", '3rd Rock From the Sun', 'The Bletchley Circle', 'The Flintstones', 'The Daily Show', \"Chappelle's Show\", \"Grey's Anatomy\", 'Workaholics', 'The Drew Carey Show', 'Revolution', 'CSI: NY', 'Friday Night Lights', \"Charlie's Angels\", 'Mr. Robot', 'Bottom', 'The Amanda Show', 'The Kids in the Hall', 'The Late Late Show With Craig Ferguson', 'Police Squad!', 'Fear the Walking Dead', 'Aaahh!!! Real Monsters', 'Dragon Ball Z Kai', 'The Returned ', 'Magnificent Century', 'The Voice', 'Girl Meets World', 'Major Crimes', 'Bitten', 'The War at Home', 'The Legend of Korra', 'Gavin & Stacey', 'Moonlighting', 'Darker Than Black', 'Pinky and the Brain', 'Dominion', 'Doogie Howser, M.D.', 'Storage Wars', 'The Suite Life on Deck', 'The Ellen Degeneres Show', 'From Dusk Till Dawn Season 1', 'Saved by the Bell', 'Samurai Champloo', 'Mighty Morphin Power Rangers', \"Hell's Kitchen\", 'Little Britain', 'Ancient Aliens', 'Da Ali G Show', 'Copper', 'The Hard Times of RJ Berger', 'The Bernie Mac Show', 'Sliders', 'Video Game High School', '21 Jump Street', 'Pushing Daisies', 'The Knick', 'The Middle', 'The Event', 'Louie', 'Samantha Who?', 'Camelot', 'Happy Endings', 'Midsomer Murders', 'Once Upon a Time', 'Good Luck Charlie', 'Star Wars: Clone Wars', 'Early Edition ', 'Fairy Tail', 'Catdog', 'Degrassi: The Next Generation', 'Survivorman', 'Lilyhammer', 'Bewitched', 'The Chicago Code', 'Enlightened', 'Yu Yu Hakusho: Ghost Files', 'Misfits', 'Joey', 'Stitchers', 'The Critic', 'Darkwing Duck', 'JAG', 'Yes Minister', 'Black Adder the Third', 'Avrupa Yakasi', 'Strike Back', 'The Sopranos', 'Under the Dome', 'Full House', 'The Bastard Executioner', 'Mr. Show', 'Alfred Hitchcock Presents', 'Justified', 'Scrubs', 'Malcolm in the Middle', 'Resurrection TV Series', 'Hot in Cleveland', 'Gary Unmarried', 'The Fresh Prince of Bel-Air', 'V', 'Olympus', 'The New Adventures of Old Christine', 'The Brink', 'Friends', 'Beauty and the Beast TV Series', \"Allo 'Allo!\", 'Two and a Half Men', 'Ballers', 'Hand of God', 'The Dead Zone', 'The Originals', 'Trophy Wife', 'Everybody Hates Chris', 'Happy Tree Friends', 'Dr. Quinn Medicine Woman', 'SpongeBob Squarepants', 'About a Boy', 'Desperate Housewives', 'Top of the Lake', 'Brickleberry', 'Miranda', 'Deadliest Catch', 'The A-Team', 'Codename: Kids Next Door', 'United States of Tara', 'Gilmore Girls', 'Hawaii Five-0', \"Foyle's War\", 'Dharma & Greg', 'Make It or Break It', 'Charmed Season 1', 'Northern Exposure', 'Code Geass: Lelouch of the Rebellion', 'Behzat Ç.: Bir Ankara Polisiyesi', 'Sense8', 'Babylon 5', 'Beavis and Butt-Head', 'Project Runway', 'X-Men', 'The Wild Thornberrys', 'The L Word', 'The X-Files', 'Trailer Park Boys', 'Sanctuary', 'Spartacus: War of the Damned', 'Digimon: Digital Monsters', 'Baccano', 'The Adventures of Sherlock Holmes', 'Treme', 'Lie to Me', 'Mr. Sunshine', 'Mozart in the Jungle', 'Sister Sister', 'Making a Murderer', 'Gravity Falls', 'The Bugs Bunny Show', 'Twisted (TV Series)', 'Life on Mars', 'Keeping Up Appearances', 'Being Erica', 'Hellsing', 'Damages', 'The Grim Adventures of Billy & Mandy', 'Battle Creek', 'Last Week Tonight With John Oliver', 'Life o', 'Doctor Who', 'Mythbusters', 'Chip and Dale Rescue Rangers', \"I'm Alan Partridge\", 'The Returned', 'Phineas and Ferb', 'The Musketeers', 'Home Movies', 'Spider-Man', 'The Vampire Diaries Season 1', 'Derek', 'The Ricky Gervais Show', 'The Paradise', 'The Riches', 'The Jetsons', 'Frasier', 'Tim and Eric Awesome Show, Great Job!', 'Aquarius', 'According to Jim', 'Jimmy Kimmel Live!', 'Future Diary', \"Wolf's Rain\", 'Angel', 'X-Men: Evolution', 'Cold Case', 'Miami Vice', 'The Crazy Ones', 'Alcatraz', 'The Nanny', 'Elementary', 'Austin & Ally', \"Late Night with Conan O'Brien\", 'Silicon Valley', 'Helix', 'Regular Show', 'Survivors', 'That Mitchell and Webb Look', 'Garfield and Friends', 'A Bit of Fry & Laurie', 'Eastwick', 'The Affair', 'Warehouse 13', 'American Horror Story: Coven', 'Airwolf', 'Breakout Kings', 'Roseanne', 'ER', 'Doc Martin', 'The Good Wife', 'Without a Trace', 'Newsradio', 'The Prisoner', 'Portlandia', 'The Angry Video Game Nerd', 'Wonderfalls', 'Beetlejuice', 'Jessica Jones', 'The New Normal', 'The Big C', 'Popular', 'Whose Line Is It Anyway', 'Family Ties', 'Heroes', 'Sons of Anarchy', 'South Park', 'Spaced', 'The Addams Family', 'Still Standing', 'Scooby Doo, Where Are You!', 'Gossip Girl', 'Life', 'Flight of the Conchords', 'Scream Queens', 'Red Dwarf', 'Impractical Jokers', 'Hannibal', 'The Simpsons', 'Conan', 'Eureka', 'Zoo', 'Summer Heights High', 'Kings', 'Jonathan Strange & Mr Norrell', 'He -Man and the Masters of the Universe', 'Queer as Folk', 'Firefly', 'Drake & Josh', 'Sports Night', 'Star Wars Rebels', 'An Idiot Abroad', 'Transformers', 'Everybody Loves Raymond', 'Coupling', 'Modern Family', 'Harvey Birdman, Attorney at Law', 'Legit', 'Danny Phantom', 'Numb3rs', 'Suite Life of Zack and Cody', 'Entourage', 'Anger Management', 'Primeval', 'Twin Peaks', 'Star Trek: Deep Space Nine', 'Doug', \"Three's Company\", '30 Rock', 'Battlestar Galactica', 'Secrets and Lies', 'The Batman', 'Mission: Impossible', 'Will & Grace', 'Common Law', 'Clerks', 'Parenthood', 'The Tomorrow People', 'The Wonder Years', \"Punk'd\", 'True Detective', 'The Andy Griffith Show', 'NCIS: New Orleans', 'The Boondocks', 'Medium', 'Highlander', 'Animaniacs', 'Bonanza ', 'Detective Conan', 'Kenny Vs. Spenny', 'Kenan & Kel', 'Dinosaurs', 'Scorpion', 'Devious Maids', 'The Penguins of Madagascar', 'Lizzie McGuire', 'Family Guy', 'Invader Zim', 'The Munsters', 'Steins;Gate', 'Stargate Atlantis', 'Family Matters', 'Smash', 'Secret Diary of a Call Girl', '12 Monkeys', 'Unforgettable', 'Prison Break', 'Pokemon', 'Dark Matter', 'The Wire', 'Breaking in', 'The Mask: Animated Series', 'The Unit', 'The Borgias', 'Power (TV Series)', 'Ed', 'The Gates', 'Courage the Cowardly Dog', 'Ashes to Ashes', 'The Life & Times of Tim', 'Freaks and Geeks', \"Ned's Declassified School Survival Guide\", 'Fresh Meat', 'Grimm', 'The Bridge', 'Night Court', 'The Inbetweeners', 'Boston Legal', 'Last Man Standing TV Series', 'The Dick Van Dyke Show', 'Bojack Horseman', 'Ghost in the Shell: Stand Alone Complex', 'Rules of Engagement', 'The Vicar of Dibley', 'Franklin & Bash', 'King of the Hill', 'Terminator: The Sarah Connor Chronicles', 'Continuum', 'Quantico', 'Longmire', 'In Living Color', 'Wayward Pines (TV Series)', 'Farscape', 'Mr. Bean: The Animated Series', 'Red Band Society', 'Arrested Development', 'Psycho Pass', 'Step by Step', 'Batman Beyond', 'Dragon Ball Z', 'Chuck', 'Beast Wars: Transformers', 'Torchwood', 'Dont Trust the Bitch in Apartment 23', 'White Collar', 'Big Time Rush', 'Scream: The TV Series', 'My Family', 'I Dream of Jeannie', 'Black-Adder II', 'Constantine', 'The Colbert Report', 'The Big Bang Theory', 'Stalker', 'The Amazing Race', 'The O.C.', 'The Office', 'The Librarians', 'The Nostalgia Critic', 'Victorious', 'Penny Dreadful', 'Emily Owens M.D.', 'My So-Called Life', 'Buffy the Vampire Slayer', 'Felicity', 'Jeeves and Wooster', 'Hellsing Ultimate', 'Faking It', 'How to Get Away With Murder', 'Yes, Dear', 'NYPD Blue', 'Blackadder Goes Forth', 'Futurama', 'Merlin', 'New Amsterdam', 'Kardes Payi', 'Brass Eye', 'Tengen Toppa Gurren Lagann', 'Sesame Street', 'Chicago P.D.', 'Unbreakable Kimmy Schmidt', 'Legend of the Seeker', 'Kitchen Nightmares', 'Tyrant', 'Rookie Blue', 'The Carrie Diaries', 'Tiny Toon Adventures', 'Weeds', 'Revenge', 'Seinfeld', 'House of Cards', 'MI-5', 'A Gifted Man', \"You're the Worst\", 'ALF', \"'Til Death\", 'Southland', 'Bones', 'Star Trek: The Next Generation', 'Carnivàle', 'Mr. Selfridge', 'Extras', 'The 4400', 'Missing', 'Fringe', 'iZombie (TV Series)', 'Pawn Stars', 'Tales From the Crypt', 'So You Think You Can Dance', 'New Girl', 'The Adventures of Tintin', 'Endeavour', 'Sleepy Hollow', 'One Piece: The Movie', 'The Young Indiana Jones Chronicles', 'Forever Over', 'Superman', 'Ray Donovan', 'The League', 'Beverly Hills, 90210', 'The Soup', 'Rugrats', 'Royal Pains', 'Covert Affairs', 'In Treatment', 'Awkward.', \"Dawson's Creek\", 'Reba', \"TURN: Washington's Spies\", \"The Tonight Show With Conan O'Brien\", 'Young Justice', 'Almost Human', 'Dollhouse', 'The Finder', 'Frisky Dingo', 'Tokyo Ghoul', 'My Name Is Earl', 'Alphas', 'Nip/Tuck', 'The Six Million Dollar Man', 'Joan of Arcadia', 'Ben 10', 'Isler Güçler', 'Better off Ted', 'Masters of Sex', 'Ezel', 'Moonlight', 'Hung', 'Metalocalypse', 'Girls', 'Party of Five', 'Drawn Together', 'The Flash', 'House M.D', 'Forbrydelsen', 'CSI: Miami', 'Hunter X Hunter', 'Caprica', 'Clarissa Explains It All', 'Game of Thrones', 'Lost Girl', 'Spin City', 'Bob`S Burgers', 'Quantum Leap', '666 Park Avenue', 'Brooklyn Nine-Nine', 'Madtv', 'Terra Nova', 'Nashville', 'Recess', 'Killjoys', 'Scandal (TV Series)', 'Black-Ish', 'Married...With Children', 'Bates Motel', 'Robot Chicken', 'Get Smart', 'Cow and Chicken', 'Peep Show', 'Arrow', 'Kim Possible', 'The Marvelous Misadventures of Flapjack', 'Shark', 'The Angry Beavers', 'Persons Unknown', 'Late Night With Jimmy Fallon', 'The Client List', 'Castle', 'Black Mirror', 'Arthur', 'Highschool of the Dead', 'Perception', 'Outlander', 'Ultimate Spider-Man', 'Star Trek: Voyager', 'Hercules: The Legendary Journeys', 'Penn & Teller: Bullshit!', \"The Hitchhiker's Guide to the Galaxy\", 'Claymore', 'Star Wars: The Clone Wars', 'The Strain', 'The Lying Game', 'Naruto', 'Bunheads', 'The Mentalist', 'Hostages', 'Larry David: Curb Your Enthusiasm', 'The Amazing World of Gumball', 'Rescue Me', 'Twilight Zone', \"Dexter's Laboratory\", 'Wolverine and the X-Men', 'Law & Order', 'Undercover', 'Monk', 'Madam Secretary', 'The Listener', 'Inspector Morse', 'Backstrom', \"Agatha Christie's Poirot\", 'Mistresses', 'Trigun', 'Journeyman', 'Sword Art Online ', 'Party Down', 'Taxi', 'How I Met Your Mother', 'Undeclared', 'Chicago Fire', 'Robin Hood', '90210', 'The Man in the High Castle', 'Narcos', 'Oz', 'Ed Edd N Eddy', 'Captain Planet and the Planeteers', 'Kingdom Hospital', '2 Broke Girls', 'The Black Adder', 'The Twilight Zone', 'Death Note - Series', 'The Last Kingdom', 'Tru Calling', 'Young & Hungry', 'Star-Crossed', \"Harry's Law\", 'The Dukes of Hazzard', 'Graceland', 'WWF Raw', 'Black Sails', 'Lost', 'The Killing', 'Ducktales', 'Fullmetal Alchemist', 'Burn Notice', 'The Being Frank Show', 'The Practice', 'Wilfred', 'Dragon Ball', 'Parks and Recreation', 'Galavant', 'I Love Lucy', 'The Cosby Show', 'Stargate Universe', 'Raising Hope', \"That's So Raven\", 'Gomorrah', 'The Blacklist', 'Spectacular Spider-Man', 'Awake', 'Fortitude', 'Growing Pains', 'Cowboy Bebop', 'Ripper Street', 'Necessary Roughness', 'Tosh.0', 'Hunted', 'Sex and the City', 'Hellcats', 'Vicious', 'Shaun the Sheep', 'Flashpoint', 'Believe', '8 Simple Rules', 'Terriers', \"Hogan's Heroes \", 'Rizzoli & Isles', 'Code Geass: Lelouch of the Rebellion R2', 'Switched at Birth', 'Sherlock', 'Man Vs. Wild', 'Soul Eater', 'Leverage', 'Wings', 'Berserk', 'Californication', 'Atlantis', 'The Love Boat', 'Permanent Roommates', \"Gilligan's Island\", 'Neon Genesis Evangelion', 'Suburgatory Season 1', 'Veronica Mars', 'Go on', 'Dracula', 'The Hour', 'Touch TV Series', 'Dirty Jobs', 'The Adventures of Jimmy Neutron: Boy Genius', 'Attack on Titan', 'Up All Night', 'Accidentally on Purpose', 'The King of Queens', 'Blindspot', 'Fullmetal Alchemist: Brotherhood', 'Justice League', 'Adventures of the Gummi Bears', 'Empire', 'Naruto: Shippûden', 'Key and Peele', 'Inside Amy Schumer', 'John Doe', \"Who's the Boss?\", 'Freakazoid!', 'The Odyssey', 'How to Make It in America', 'Ugly Betty', 'Black Books', 'Columbo', 'Third Watch', 'Elfen Lied', 'Marco Polo', 'The Fosters', 'The Nine Lives of Chloe King', 'Drop Dead Diva', 'Roswell', 'The Incredible Hulk', 'Transporter: The Series', 'Inspector Gadget', 'Suits', 'What I Like About You', 'Transparent', 'The River', 'Daredevil', 'Jane the Virgin', 'Home Improvement ', 'Ask-I Memnu', 'Avatar: The Last Airbender', 'Big Love', 'Better Call Saul', \"Rocko's Modern Life\", 'Mad About You', 'Lipstick Jungle', 'Hercules', 'Mad Men', 'Death in Paradise', 'Kyle XY', 'Supergirl', 'Smallville', 'Six Feet Under', 'The Fall', 'Lucky Louie', 'Mr. Bean', 'Rubicon', 'The Following', 'Millennium', 'Whitechapel', 'Haven', 'Dallas', 'The Young Ones', 'Kurtlar Vadisi', 'Outcasts', 'Glee', 'Gotham (TV Series)', 'Mob City', 'Masters of Horror', \"Diff'rent Strokes \", 'Sonny With a Chance', 'Mike & Molly', 'Chowder', 'Invasion', \"Life's Too Short\", 'Wipeout', \"A Young Doctor's Notebook\", 'My Wife and Kids', \"Harper's Island\", '24', 'The Mindy Project', 'Broadchurch', 'All in the Family', 'NCIS', 'Las Vegas', 'Gang Related', 'Mushi-Shi', 'Even Stevens', 'The Golden Girls', 'The Bugs Bunny/Looney Tunes Comedy Hour', 'Perfect Strangers', 'The Tick', 'Steven Universe', 'The Leftovers']\n"
     ]
    }
   ],
   "source": [
    "print(final_titles)"
   ]
  },
  {
   "cell_type": "markdown",
   "metadata": {},
   "source": [
    "# Checking our final output"
   ]
  },
  {
   "cell_type": "code",
   "execution_count": 12,
   "metadata": {},
   "outputs": [
    {
     "data": {
      "text/plain": [
       "985"
      ]
     },
     "execution_count": 12,
     "metadata": {},
     "output_type": "execute_result"
    }
   ],
   "source": [
    "len(final_titles)"
   ]
  },
  {
   "cell_type": "markdown",
   "metadata": {},
   "source": [
    "# Checking to see if we missed anything"
   ]
  },
  {
   "cell_type": "code",
   "execution_count": 13,
   "metadata": {},
   "outputs": [],
   "source": [
    "not_matched = set(cleaned_up_titles)- set(cleaned_up_matched)"
   ]
  },
  {
   "cell_type": "code",
   "execution_count": 14,
   "metadata": {},
   "outputs": [
    {
     "name": "stdout",
     "output_type": "stream",
     "text": [
      "set()\n"
     ]
    }
   ],
   "source": [
    "print(not_matched)"
   ]
  },
  {
   "cell_type": "markdown",
   "metadata": {},
   "source": [
    "# Our ```final_titles``` variable holds all the titles that we can use to test out code."
   ]
  },
  {
   "cell_type": "code",
   "execution_count": 17,
   "metadata": {},
   "outputs": [],
   "source": [
    "titles = ''\n",
    "for title in sorted(final_titles):\n",
    "    titles += f'{title}\\n'\n",
    "with open('test_titles.txt', 'w') as ofile:\n",
    "    ofile.write(titles)"
   ]
  },
  {
   "cell_type": "code",
   "execution_count": null,
   "metadata": {},
   "outputs": [],
   "source": []
  }
 ],
 "metadata": {
  "kernelspec": {
   "display_name": "TV series title retrieval",
   "language": "python",
   "name": ".venv"
  },
  "language_info": {
   "codemirror_mode": {
    "name": "ipython",
    "version": 3
   },
   "file_extension": ".py",
   "mimetype": "text/x-python",
   "name": "python",
   "nbconvert_exporter": "python",
   "pygments_lexer": "ipython3",
   "version": "3.7.8"
  }
 },
 "nbformat": 4,
 "nbformat_minor": 4
}
